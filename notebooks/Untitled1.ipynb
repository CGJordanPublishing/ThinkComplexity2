{
 "cells": [
  {
   "cell_type": "code",
   "execution_count": null,
   "id": "62566b76",
   "metadata": {},
   "outputs": [],
   "source": [
    "import gzip\n",
    "import networkx as nx\n",
    "import matplotlib.pyplot as plt\n",
    "import numpy as np\n",
    "import seaborn as sns\n",
    "\n",
    "def read_actor_network(fname, n=None):\n",
    "    G=nx.Graph()\n",
    "    with gzip.open(fname) as f:\n",
    "        for i, line in enumerate(f):\n",
    "            nodes=[int(x) for x in line.split()]\n",
    "            G.add_edges_from(Thinkcomplexity.all_pairs(nodes))\n",
    "            if n and i >= n:\n",
    "                break\n",
    "    return G"
   ]
  }
 ],
 "metadata": {
  "kernelspec": {
   "display_name": "Python 3 (ipykernel)",
   "language": "python",
   "name": "python3"
  },
  "language_info": {
   "codemirror_mode": {
    "name": "ipython",
    "version": 3
   },
   "file_extension": ".py",
   "mimetype": "text/x-python",
   "name": "python",
   "nbconvert_exporter": "python",
   "pygments_lexer": "ipython3",
   "version": "3.9.12"
  }
 },
 "nbformat": 4,
 "nbformat_minor": 5
}
