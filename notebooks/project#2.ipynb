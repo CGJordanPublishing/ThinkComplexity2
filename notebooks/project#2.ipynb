{
 "cells": [
  {
   "cell_type": "code",
   "execution_count": null,
   "id": "654bd541",
   "metadata": {},
   "outputs": [],
   "source": [
    "import matplotlib.pyplot as plt\n",
    "import numpy as np"
   ]
  },
  {
   "cell_type": "code",
   "execution_count": null,
   "id": "11e3e42f",
   "metadata": {},
   "outputs": [],
   "source": [
    "def make_locs(n, m):\n",
    "    t = [(i, j) for i in range(n) for j in range(m)]\n",
    "    return np.array(t)"
   ]
  },
  {
   "cell_type": "code",
   "execution_count": null,
   "id": "c0c634d1",
   "metadata": {},
   "outputs": [],
   "source": [
    "def make_visible_locs(vision):\n",
    "    def make_array(d):\n",
    "        a = np.array([[-d, 0], [d, 0], [0, -d], [0, d]])\n",
    "        np.random.shuffle(a)\n",
    "        return a\n",
    "                     \n",
    "    arrays = [make_array(d) for d in range(1, vision+1)]\n",
    "    return np.vstack(arrays)"
   ]
  },
  {
   "cell_type": "code",
   "execution_count": null,
   "id": "1c9e9d2a",
   "metadata": {},
   "outputs": [],
   "source": [
    "def distances_from(n, i, j):\n",
    "    X, Y = np.indices((n, n))\n",
    "    return np.hypot(X-i, Y-j)"
   ]
  }
 ],
 "metadata": {
  "kernelspec": {
   "display_name": "Python 3 (ipykernel)",
   "language": "python",
   "name": "python3"
  },
  "language_info": {
   "codemirror_mode": {
    "name": "ipython",
    "version": 3
   },
   "file_extension": ".py",
   "mimetype": "text/x-python",
   "name": "python",
   "nbconvert_exporter": "python",
   "pygments_lexer": "ipython3",
   "version": "3.9.12"
  }
 },
 "nbformat": 4,
 "nbformat_minor": 5
}
