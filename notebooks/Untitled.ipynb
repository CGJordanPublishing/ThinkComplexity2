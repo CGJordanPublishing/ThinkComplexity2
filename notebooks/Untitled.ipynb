{
 "cells": [
  {
   "cell_type": "code",
   "execution_count": 2,
   "id": "89b6a2a6",
   "metadata": {},
   "outputs": [
    {
     "ename": "TypeError",
     "evalue": "Population must be a sequence.  For dicts or sets, use sorted(d).",
     "output_type": "error",
     "traceback": [
      "\u001b[1;31m---------------------------------------------------------------------------\u001b[0m",
      "\u001b[1;31mTypeError\u001b[0m                                 Traceback (most recent call last)",
      "Input \u001b[1;32mIn [2]\u001b[0m, in \u001b[0;36m<cell line: 47>\u001b[1;34m()\u001b[0m\n\u001b[0;32m     45\u001b[0m         probs\u001b[38;5;241m.\u001b[39madd(prob)\n\u001b[0;32m     46\u001b[0m     \u001b[38;5;28mprint\u001b[39m(probs)\n\u001b[1;32m---> 47\u001b[0m \u001b[43mdo_prob_m\u001b[49m\u001b[43m(\u001b[49m\u001b[38;5;241;43m5\u001b[39;49m\u001b[43m,\u001b[49m\u001b[38;5;241;43m6\u001b[39;49m\u001b[43m)\u001b[49m\n",
      "Input \u001b[1;32mIn [2]\u001b[0m, in \u001b[0;36mdo_prob_m\u001b[1;34m(n, m)\u001b[0m\n\u001b[0;32m     42\u001b[0m probs\u001b[38;5;241m=\u001b[39m[]\n\u001b[0;32m     43\u001b[0m \u001b[38;5;28;01mfor\u001b[39;00m i \u001b[38;5;129;01min\u001b[39;00m \u001b[38;5;28mrange\u001b[39m(\u001b[38;5;241m1\u001b[39m,m\u001b[38;5;241m+\u001b[39m\u001b[38;5;241m1\u001b[39m):\n\u001b[1;32m---> 44\u001b[0m     prob\u001b[38;5;241m=\u001b[39m\u001b[43mprob_connected\u001b[49m\u001b[43m(\u001b[49m\u001b[43mn\u001b[49m\u001b[43m,\u001b[49m\u001b[43mm\u001b[49m\u001b[43m,\u001b[49m\u001b[38;5;241;43m100\u001b[39;49m\u001b[43m)\u001b[49m\n\u001b[0;32m     45\u001b[0m     probs\u001b[38;5;241m.\u001b[39madd(prob)\n\u001b[0;32m     46\u001b[0m \u001b[38;5;28mprint\u001b[39m(probs)\n",
      "Input \u001b[1;32mIn [2]\u001b[0m, in \u001b[0;36mprob_connected\u001b[1;34m(n, m, iters)\u001b[0m\n\u001b[0;32m     35\u001b[0m count \u001b[38;5;241m=\u001b[39m \u001b[38;5;241m0\u001b[39m\n\u001b[0;32m     36\u001b[0m \u001b[38;5;28;01mfor\u001b[39;00m i \u001b[38;5;129;01min\u001b[39;00m \u001b[38;5;28mrange\u001b[39m(iters):\n\u001b[1;32m---> 37\u001b[0m     random_graph \u001b[38;5;241m=\u001b[39m \u001b[43mmake_m_graph\u001b[49m\u001b[43m(\u001b[49m\u001b[43mn\u001b[49m\u001b[43m,\u001b[49m\u001b[43m \u001b[49m\u001b[43mm\u001b[49m\u001b[43m)\u001b[49m\n\u001b[0;32m     38\u001b[0m     \u001b[38;5;28;01mif\u001b[39;00m is_connected(random_graph):\n\u001b[0;32m     39\u001b[0m         count \u001b[38;5;241m+\u001b[39m\u001b[38;5;241m=\u001b[39m \u001b[38;5;241m1\u001b[39m\n",
      "Input \u001b[1;32mIn [2]\u001b[0m, in \u001b[0;36mmake_m_graph\u001b[1;34m(n, m)\u001b[0m\n\u001b[0;32m     17\u001b[0m edges\u001b[38;5;241m=\u001b[39mm_pairs(n,m)\n\u001b[0;32m     18\u001b[0m Graph\u001b[38;5;241m.\u001b[39madd_nodes_from(nodes)\n\u001b[1;32m---> 19\u001b[0m \u001b[43mGraph\u001b[49m\u001b[38;5;241;43m.\u001b[39;49m\u001b[43madd_edges_from\u001b[49m\u001b[43m(\u001b[49m\u001b[43medges\u001b[49m\u001b[43m)\u001b[49m\n\u001b[0;32m     20\u001b[0m \u001b[38;5;28;01mreturn\u001b[39;00m Graph\n",
      "File \u001b[1;32m~\\anaconda3\\lib\\site-packages\\networkx\\classes\\graph.py:933\u001b[0m, in \u001b[0;36mGraph.add_edges_from\u001b[1;34m(self, ebunch_to_add, **attr)\u001b[0m\n\u001b[0;32m    895\u001b[0m \u001b[38;5;28;01mdef\u001b[39;00m \u001b[38;5;21madd_edges_from\u001b[39m(\u001b[38;5;28mself\u001b[39m, ebunch_to_add, \u001b[38;5;241m*\u001b[39m\u001b[38;5;241m*\u001b[39mattr):\n\u001b[0;32m    896\u001b[0m     \u001b[38;5;124;03m\"\"\"Add all the edges in ebunch_to_add.\u001b[39;00m\n\u001b[0;32m    897\u001b[0m \n\u001b[0;32m    898\u001b[0m \u001b[38;5;124;03m    Parameters\u001b[39;00m\n\u001b[1;32m   (...)\u001b[0m\n\u001b[0;32m    931\u001b[0m \u001b[38;5;124;03m    >>> G.add_edges_from([(3, 4), (1, 4)], label=\"WN2898\")\u001b[39;00m\n\u001b[0;32m    932\u001b[0m \u001b[38;5;124;03m    \"\"\"\u001b[39;00m\n\u001b[1;32m--> 933\u001b[0m     \u001b[38;5;28;01mfor\u001b[39;00m e \u001b[38;5;129;01min\u001b[39;00m ebunch_to_add:\n\u001b[0;32m    934\u001b[0m         ne \u001b[38;5;241m=\u001b[39m \u001b[38;5;28mlen\u001b[39m(e)\n\u001b[0;32m    935\u001b[0m         \u001b[38;5;28;01mif\u001b[39;00m ne \u001b[38;5;241m==\u001b[39m \u001b[38;5;241m3\u001b[39m:\n",
      "Input \u001b[1;32mIn [2]\u001b[0m, in \u001b[0;36mm_pairs\u001b[1;34m(n, m)\u001b[0m\n\u001b[0;32m     10\u001b[0m \u001b[38;5;28;01mdef\u001b[39;00m \u001b[38;5;21mm_pairs\u001b[39m(n,m):\n\u001b[0;32m     11\u001b[0m     alledge\u001b[38;5;241m=\u001b[39mall_pairs(n)\n\u001b[1;32m---> 12\u001b[0m     randpair\u001b[38;5;241m=\u001b[39m\u001b[43mrandom\u001b[49m\u001b[38;5;241;43m.\u001b[39;49m\u001b[43msample\u001b[49m\u001b[43m(\u001b[49m\u001b[43malledge\u001b[49m\u001b[43m,\u001b[49m\u001b[43m \u001b[49m\u001b[43mm\u001b[49m\u001b[43m)\u001b[49m\n\u001b[0;32m     13\u001b[0m     \u001b[38;5;28;01myield\u001b[39;00m randpair\n",
      "File \u001b[1;32m~\\anaconda3\\lib\\random.py:433\u001b[0m, in \u001b[0;36mRandom.sample\u001b[1;34m(self, population, k, counts)\u001b[0m\n\u001b[0;32m    431\u001b[0m     population \u001b[38;5;241m=\u001b[39m \u001b[38;5;28mtuple\u001b[39m(population)\n\u001b[0;32m    432\u001b[0m \u001b[38;5;28;01mif\u001b[39;00m \u001b[38;5;129;01mnot\u001b[39;00m \u001b[38;5;28misinstance\u001b[39m(population, _Sequence):\n\u001b[1;32m--> 433\u001b[0m     \u001b[38;5;28;01mraise\u001b[39;00m \u001b[38;5;167;01mTypeError\u001b[39;00m(\u001b[38;5;124m\"\u001b[39m\u001b[38;5;124mPopulation must be a sequence.  For dicts or sets, use sorted(d).\u001b[39m\u001b[38;5;124m\"\u001b[39m)\n\u001b[0;32m    434\u001b[0m n \u001b[38;5;241m=\u001b[39m \u001b[38;5;28mlen\u001b[39m(population)\n\u001b[0;32m    435\u001b[0m \u001b[38;5;28;01mif\u001b[39;00m counts \u001b[38;5;129;01mis\u001b[39;00m \u001b[38;5;129;01mnot\u001b[39;00m \u001b[38;5;28;01mNone\u001b[39;00m:\n",
      "\u001b[1;31mTypeError\u001b[0m: Population must be a sequence.  For dicts or sets, use sorted(d)."
     ]
    }
   ],
   "source": [
    "import random\n",
    "import networkx as nx\n",
    "def all_pairs(n):\n",
    "    edges=[]\n",
    "    for i, u in range(1,n+1):\n",
    "        for j, v in range(1,n+1):\n",
    "            if i < j:\n",
    "                edges.add((u,v))\n",
    "    yield edges\n",
    "def m_pairs(n,m):\n",
    "    alledge=all_pairs(n)\n",
    "    randpair=random.sample(alledge, m)\n",
    "    yield randpair\n",
    "def make_m_graph(n,m):\n",
    "    Graph=nx.Graph()\n",
    "    nodes=range(1,n+1)\n",
    "    edges=m_pairs(n,m)\n",
    "    Graph.add_nodes_from(nodes)\n",
    "    Graph.add_edges_from(edges)\n",
    "    return Graph\n",
    "def reachable_nodes(G, start):\n",
    "    seen = set()\n",
    "    stack = [start]\n",
    "    while stack:\n",
    "        node = stack.pop()\n",
    "        if node not in seen:\n",
    "            seen.add(node)\n",
    "            stack.extend(G.neighbors(node))\n",
    "    return seen\n",
    "def is_connected(G):\n",
    "    start = next(iter(G))\n",
    "    reachable = reachable_nodes(G, start)\n",
    "    return len(reachable) == len(G)\n",
    "def prob_connected(n, m, iters):\n",
    "    count = 0\n",
    "    for i in range(iters):\n",
    "        random_graph = make_m_graph(n, m)\n",
    "        if is_connected(random_graph):\n",
    "            count += 1\n",
    "    return count/iters\n",
    "def do_prob_m(n,m):\n",
    "    probs=[]\n",
    "    for i in range(1,m+1):\n",
    "        prob=prob_connected(n,m,100)\n",
    "        probs.add(prob)\n",
    "    print(probs)\n",
    "do_prob_m(5,6)"
   ]
  },
  {
   "cell_type": "code",
   "execution_count": null,
   "id": "d0dfce97",
   "metadata": {},
   "outputs": [],
   "source": []
  }
 ],
 "metadata": {
  "kernelspec": {
   "display_name": "Python 3 (ipykernel)",
   "language": "python",
   "name": "python3"
  },
  "language_info": {
   "codemirror_mode": {
    "name": "ipython",
    "version": 3
   },
   "file_extension": ".py",
   "mimetype": "text/x-python",
   "name": "python",
   "nbconvert_exporter": "python",
   "pygments_lexer": "ipython3",
   "version": "3.9.12"
  }
 },
 "nbformat": 4,
 "nbformat_minor": 5
}
