{
 "cells": [
  {
   "cell_type": "code",
   "execution_count": 26,
   "id": "f301888f",
   "metadata": {},
   "outputs": [
    {
     "ename": "ValueError",
     "evalue": "dictionary update sequence element #0 has length 1; 2 is required",
     "output_type": "error",
     "traceback": [
      "\u001b[1;31m---------------------------------------------------------------------------\u001b[0m",
      "\u001b[1;31mValueError\u001b[0m                                Traceback (most recent call last)",
      "Input \u001b[1;32mIn [26]\u001b[0m, in \u001b[0;36m<cell line: 48>\u001b[1;34m()\u001b[0m\n\u001b[0;32m     46\u001b[0m         probs\u001b[38;5;241m.\u001b[39madd(prob)\n\u001b[0;32m     47\u001b[0m     \u001b[38;5;28mprint\u001b[39m(probs)\n\u001b[1;32m---> 48\u001b[0m \u001b[43mdo_prob_m\u001b[49m\u001b[43m(\u001b[49m\u001b[38;5;241;43m5\u001b[39;49m\u001b[43m,\u001b[49m\u001b[38;5;241;43m3\u001b[39;49m\u001b[43m)\u001b[49m\n",
      "Input \u001b[1;32mIn [26]\u001b[0m, in \u001b[0;36mdo_prob_m\u001b[1;34m(n, m)\u001b[0m\n\u001b[0;32m     43\u001b[0m probs\u001b[38;5;241m=\u001b[39m[]\n\u001b[0;32m     44\u001b[0m \u001b[38;5;28;01mfor\u001b[39;00m i \u001b[38;5;129;01min\u001b[39;00m \u001b[38;5;28mrange\u001b[39m(\u001b[38;5;241m1\u001b[39m,m\u001b[38;5;241m+\u001b[39m\u001b[38;5;241m1\u001b[39m):\n\u001b[1;32m---> 45\u001b[0m     prob\u001b[38;5;241m=\u001b[39m\u001b[43mprob_connected\u001b[49m\u001b[43m(\u001b[49m\u001b[43mn\u001b[49m\u001b[43m,\u001b[49m\u001b[43mm\u001b[49m\u001b[43m,\u001b[49m\u001b[38;5;241;43m100\u001b[39;49m\u001b[43m)\u001b[49m\n\u001b[0;32m     46\u001b[0m     probs\u001b[38;5;241m.\u001b[39madd(prob)\n\u001b[0;32m     47\u001b[0m \u001b[38;5;28mprint\u001b[39m(probs)\n",
      "Input \u001b[1;32mIn [26]\u001b[0m, in \u001b[0;36mprob_connected\u001b[1;34m(n, m, iters)\u001b[0m\n\u001b[0;32m     36\u001b[0m count \u001b[38;5;241m=\u001b[39m \u001b[38;5;241m0\u001b[39m\n\u001b[0;32m     37\u001b[0m \u001b[38;5;28;01mfor\u001b[39;00m i \u001b[38;5;129;01min\u001b[39;00m \u001b[38;5;28mrange\u001b[39m(iters):\n\u001b[1;32m---> 38\u001b[0m     random_graph \u001b[38;5;241m=\u001b[39m \u001b[43mmake_m_graph\u001b[49m\u001b[43m(\u001b[49m\u001b[43mn\u001b[49m\u001b[43m,\u001b[49m\u001b[43m \u001b[49m\u001b[43mm\u001b[49m\u001b[43m)\u001b[49m\n\u001b[0;32m     39\u001b[0m     \u001b[38;5;28;01mif\u001b[39;00m is_connected(random_graph):\n\u001b[0;32m     40\u001b[0m         count \u001b[38;5;241m+\u001b[39m\u001b[38;5;241m=\u001b[39m \u001b[38;5;241m1\u001b[39m\n",
      "Input \u001b[1;32mIn [26]\u001b[0m, in \u001b[0;36mmake_m_graph\u001b[1;34m(n, m)\u001b[0m\n\u001b[0;32m     18\u001b[0m edges\u001b[38;5;241m=\u001b[39mm_pairs(nodes,m)\n\u001b[0;32m     19\u001b[0m Graph\u001b[38;5;241m.\u001b[39madd_nodes_from(nodes)\n\u001b[1;32m---> 20\u001b[0m \u001b[43mGraph\u001b[49m\u001b[38;5;241;43m.\u001b[39;49m\u001b[43madd_edges_from\u001b[49m\u001b[43m(\u001b[49m\u001b[43medges\u001b[49m\u001b[43m)\u001b[49m\n\u001b[0;32m     21\u001b[0m \u001b[38;5;28;01mreturn\u001b[39;00m Graph\n",
      "File \u001b[1;32m~\\anaconda3\\lib\\site-packages\\networkx\\classes\\graph.py:954\u001b[0m, in \u001b[0;36mGraph.add_edges_from\u001b[1;34m(self, ebunch_to_add, **attr)\u001b[0m\n\u001b[0;32m    952\u001b[0m datadict \u001b[38;5;241m=\u001b[39m \u001b[38;5;28mself\u001b[39m\u001b[38;5;241m.\u001b[39m_adj[u]\u001b[38;5;241m.\u001b[39mget(v, \u001b[38;5;28mself\u001b[39m\u001b[38;5;241m.\u001b[39medge_attr_dict_factory())\n\u001b[0;32m    953\u001b[0m datadict\u001b[38;5;241m.\u001b[39mupdate(attr)\n\u001b[1;32m--> 954\u001b[0m \u001b[43mdatadict\u001b[49m\u001b[38;5;241;43m.\u001b[39;49m\u001b[43mupdate\u001b[49m\u001b[43m(\u001b[49m\u001b[43mdd\u001b[49m\u001b[43m)\u001b[49m\n\u001b[0;32m    955\u001b[0m \u001b[38;5;28mself\u001b[39m\u001b[38;5;241m.\u001b[39m_adj[u][v] \u001b[38;5;241m=\u001b[39m datadict\n\u001b[0;32m    956\u001b[0m \u001b[38;5;28mself\u001b[39m\u001b[38;5;241m.\u001b[39m_adj[v][u] \u001b[38;5;241m=\u001b[39m datadict\n",
      "\u001b[1;31mValueError\u001b[0m: dictionary update sequence element #0 has length 1; 2 is required"
     ]
    }
   ],
   "source": [
    "import random\n",
    "import networkx as nx\n",
    "def all_pairs(n):\n",
    "    edges={}\n",
    "    k=0\n",
    "    for i, u in enumerate(n):\n",
    "        for j, v in enumerate(n):\n",
    "            if i < j:\n",
    "                k+=1\n",
    "                edges.update({(str(u),str(v)):k})\n",
    "    return edges\n",
    "def m_pairs(n,m):\n",
    "    randpair=random.sample(sorted(all_pairs(n)), m)\n",
    "    yield randpair\n",
    "def make_m_graph(n,m):\n",
    "    Graph=nx.Graph()\n",
    "    nodes=range(n)\n",
    "    edges=m_pairs(nodes,m)\n",
    "    Graph.add_nodes_from(nodes)\n",
    "    Graph.add_edges_from(edges)\n",
    "    return Graph\n",
    "def reachable_nodes(G, start):\n",
    "    seen = set()\n",
    "    stack = [start]\n",
    "    while stack:\n",
    "        node = stack.pop()\n",
    "        if node not in seen:\n",
    "            seen.add(node)\n",
    "            stack.extend(G.neighbors(node))\n",
    "    return seen\n",
    "def is_connected(G):\n",
    "    start = next(iter(G))\n",
    "    reachable = reachable_nodes(G, start)\n",
    "    return len(reachable) == len(G)\n",
    "def prob_connected(n, m, iters):\n",
    "    count = 0\n",
    "    for i in range(iters):\n",
    "        random_graph = make_m_graph(n, m)\n",
    "        if is_connected(random_graph):\n",
    "            count += 1\n",
    "    return count/iters\n",
    "def do_prob_m(n,m):\n",
    "    probs=[]\n",
    "    for i in range(1,m+1):\n",
    "        prob=prob_connected(n,m,100)\n",
    "        probs.add(prob)\n",
    "    print(probs)\n",
    "do_prob_m(5,3)"
   ]
  },
  {
   "cell_type": "code",
   "execution_count": null,
   "id": "7049797f",
   "metadata": {},
   "outputs": [],
   "source": []
  }
 ],
 "metadata": {
  "kernelspec": {
   "display_name": "Python 3 (ipykernel)",
   "language": "python",
   "name": "python3"
  },
  "language_info": {
   "codemirror_mode": {
    "name": "ipython",
    "version": 3
   },
   "file_extension": ".py",
   "mimetype": "text/x-python",
   "name": "python",
   "nbconvert_exporter": "python",
   "pygments_lexer": "ipython3",
   "version": "3.9.12"
  }
 },
 "nbformat": 4,
 "nbformat_minor": 5
}
